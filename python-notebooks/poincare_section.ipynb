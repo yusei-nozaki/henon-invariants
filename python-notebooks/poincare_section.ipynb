{
  "nbformat": 4,
  "nbformat_minor": 0,
  "metadata": {
    "colab": {
      "provenance": []
    },
    "kernelspec": {
      "name": "python3",
      "display_name": "Python 3"
    },
    "language_info": {
      "name": "python"
    }
  },
  "cells": [
    {
      "cell_type": "code",
      "execution_count": null,
      "metadata": {
        "id": "KgUrryZYVY93"
      },
      "outputs": [],
      "source": [
        "import numpy as np\n",
        "import matplotlib.pyplot as plt\n",
        "from scipy.integrate import solve_ivp\n",
        "import math\n",
        "import random\n",
        "\n",
        "# Generating data\n",
        "x = np.linspace(-0.5, 0.5, 100)\n",
        "y = np.linspace(-0.5, 0.5, 100)\n",
        "X, Y = np.meshgrid(x, y)\n",
        "\n",
        "def dx(x,y,dy,e): # dx^2=(E-V)-dy^2\n",
        "    return np.sqrt(2*e - x**2 - y**2 - 2*x**2*y + 2/3*y**3 - dy**2)\n",
        "\n",
        "def henon(t, z):\n",
        "    x, y, dxdt, dydt = z\n",
        "    dx2dt2 = -x - 2*x*y\n",
        "    dy2dt2 = -y - x**2 + y**2\n",
        "    return [dxdt, dydt, dx2dt2, dy2dt2]\n",
        "\n",
        "t_fin = 1000\n",
        "t_frames = 1000000\n",
        "E = 1/12\n",
        "solutions = []\n",
        "\n",
        "r = 0.2\n",
        "\n",
        "for n in range(50):\n",
        "    x0 = random.uniform(-r,r)\n",
        "    y0 = random.uniform(-r,r)\n",
        "    dy0 = random.uniform(-r,r)\n",
        "    dx0 = dx(x0,y0,dy0,E)\n",
        "\n",
        "    t_span = np.linspace(0, t_fin, t_frames)\n",
        "    z0 = [x0, y0, dx0, dy0]\n",
        "\n",
        "    sol = solve_ivp(henon, [t_span[0], t_span[-1]], z0, t_eval=t_span)\n",
        "    solutions.append(sol)\n",
        "\n",
        "\n",
        "# plt.figure(dpi=300)\n",
        "# fig = plt.figure(figsize=(20,20))\n",
        "\n",
        "\n",
        "for sol in solutions:\n",
        "    mask = np.array([(sol.y[0][i]>0 and sol.y[0][i-1]<0) or (sol.y[0][i]<0 and sol.y[0][i-1]>0) for i in range(len(sol.y[0]))])\n",
        "    plt.scatter(sol.y[1][mask],sol.y[3][mask],marker='.',s=1)\n",
        "\n",
        "plt.axis('equal')\n",
        "# plt.xlim(-0.5,0.5)\n",
        "# plt.ylim(-0.5,0.5)\n",
        "plt.xlabel('y')\n",
        "plt.ylabel('$\\dot y$')\n",
        "# plt.text(-0.6,0.4,f'$E=1/12$')\n",
        "\n",
        "plt.savefig('E17.png', dpi=300)\n",
        "\n",
        "plt.show()"
      ]
    }
  ]
}